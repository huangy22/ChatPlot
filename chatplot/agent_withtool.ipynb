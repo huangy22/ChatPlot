{
 "cells": [
  {
   "cell_type": "code",
   "execution_count": 1,
   "id": "8362f248",
   "metadata": {},
   "outputs": [],
   "source": [
    "import os\n",
    "\n",
    "from dotenv import load_dotenv, find_dotenv\n",
    "_ = load_dotenv(find_dotenv()) # read local .env file\n",
    "\n",
    "#Set your SERPER_API_KEY for goolge search tool and OPENAI_API_KEY in .env for openai api.\n",
    "\n",
    "import warnings\n",
    "warnings.filterwarnings(\"ignore\")\n",
    "\n",
    "\n",
    "#from langchain_visualizer.jupyter import visualize\n",
    "#import asyncio\n",
    "#The visualizer is for tracing the prompt messages in detail and debug. "
   ]
  },
  {
   "cell_type": "code",
   "execution_count": 2,
   "id": "ad1a7113",
   "metadata": {
    "scrolled": false
   },
   "outputs": [
    {
     "data": {
      "text/plain": [
       "<Response [200]>"
      ]
     },
     "execution_count": 2,
     "metadata": {},
     "output_type": "execute_result"
    }
   ],
   "source": [
    "# used for vpn setting. \n",
    "# os.environ['http_proxy'] = \"http://127.0.0.1:7890\" \n",
    "# os.environ['https_proxy'] = \"https://127.0.0.1:7890\" \n",
    "# import requests\n",
    "# requests.get(\"https://google.com\")"
   ]
  },
  {
   "cell_type": "code",
   "execution_count": 3,
   "id": "1a437e7d",
   "metadata": {},
   "outputs": [],
   "source": [
    "import json\n",
    "import pandas as pd\n",
    "#import pinecone\n",
    "import re\n",
    "from tqdm.auto import tqdm\n",
    "from typing import List, Union\n",
    "import zipfile\n",
    "from IPython.display import display, Markdown"
   ]
  },
  {
   "cell_type": "code",
   "execution_count": 4,
   "id": "b2c793a1",
   "metadata": {},
   "outputs": [],
   "source": [
    "from langchain.chat_models import ChatOpenAI\n",
    "from langchain import OpenAI, LLMChain\n",
    "\n",
    "from langchain.prompts import BaseChatPromptTemplate, ChatPromptTemplate, PromptTemplate\n",
    "\n",
    "from langchain.memory import ConversationBufferMemory\n",
    "from langchain.memory import ConversationSummaryMemory, ChatMessageHistory\n",
    "\n",
    "from langchain.agents import ZeroShotAgent, Tool, AgentExecutor\n",
    "from langchain.agents import load_tools, initialize_agent\n",
    "from langchain.agents import AgentType\n",
    "\n",
    "from langchain.tools import HumanInputRun\n",
    "from langchain.agents import Tool, AgentExecutor, LLMSingleActionAgent, AgentOutputParser\n",
    "from langchain.embeddings.openai import OpenAIEmbeddings\n",
    "from langchain.schema import AgentAction, AgentFinish, HumanMessage, SystemMessage\n",
    "from langchain.vectorstores import Pinecone\n",
    "\n",
    "from langchain.utilities import GoogleSerperAPIWrapper\n",
    "from langchain.tools.python.tool import PythonREPLTool"
   ]
  },
  {
   "cell_type": "code",
   "execution_count": 5,
   "id": "fe213211",
   "metadata": {},
   "outputs": [],
   "source": [
    "llm = OpenAI(temperature=0)\n",
    "# create necessary tools\n",
    "python_repl = PythonREPLTool()\n",
    "search = GoogleSerperAPIWrapper()\n",
    "human = HumanInputRun()\n",
    "# You can create the tool to pass to an agent\n",
    "repl_tool = Tool(\n",
    "    name=\"python_repl\",\n",
    "    description=\"A Python shell. Use this to execute python commands. Input should be a valid python command. If you want to see the output of a value, you should print it out with `print(...)`.\",\n",
    "    func=python_repl.run\n",
    ")\n",
    "google_serp = Tool(\n",
    "        name=\"search\",\n",
    "        func=search.run,\n",
    "        description=\"Useful for when you need to ask with search\"\n",
    "    )\n",
    "human_tool = Tool(\n",
    "        name=\"human\",\n",
    "        func=human.run,\n",
    "        description=\"useful for when you need to ask for human guidance. Use this tool more often if the question is about data or type of chart.\"\n",
    "    )\n",
    "\n"
   ]
  },
  {
   "cell_type": "code",
   "execution_count": null,
   "id": "eae2b8a8",
   "metadata": {},
   "outputs": [],
   "source": [
    "prompt = PromptTemplate(\n",
    "input_variables=[\"query\"],\n",
    "template=\"{query}\"\n",
    ")\n",
    "\n",
    "llm_chain = LLMChain(llm=llm, prompt=prompt)\n",
    "\n",
    "# initialize the LLM tool\n",
    "llm_tool = Tool(\n",
    "name='Language Model',\n",
    "func=llm_chain.run,\n",
    "description='use this tool for general purpose queries and logic'\n",
    ")"
   ]
  },
  {
   "cell_type": "code",
   "execution_count": 6,
   "id": "1bdff4c7",
   "metadata": {},
   "outputs": [],
   "source": [
    "# Changing the description of tools can influence the agent's priority of using them\n",
    "#tools = load_tools([\"human\", \"python_repl\"], llm=llm)\n",
    "tools = [\n",
    "    human_tool,repl_tool,llm_tool, google_serp\n",
    "]\n",
    "#tools[0].description = tools[0].description + \"Always use this tool first. Show your thought to human first, and then ask questions about specific information. \"\n",
    "#tools.append(google_serp)\n",
    "#tools[1].description = tools[1].description + \"If modules or libraries is missing, ask human for help with instructions. Use fake data if no data input is provided.\"\n",
    "#tools[2].description = tools[2].description + \"Must include python in the searching keyword.\"\n",
    "#print(type(tools[2]))"
   ]
  },
  {
   "cell_type": "code",
   "execution_count": 13,
   "id": "0eb73ba4",
   "metadata": {},
   "outputs": [],
   "source": [
    "#Create the prompt. It is hard to get exactly what I want with the instruction in prompt. Still work in process.       \n",
    "template = \"\"\" You are an assistant that only helps with visualization tasks, such as producing figure or chart for certain data.\n",
    "Have a conversation with human, figure out the data you need to use. \n",
    "Then Ask human the type of chart you need to plot with python.\n",
    "Then provide a python code that produce the chart. \n",
    "Try to fix all bugs in the code.\n",
    "If you can not fix a bug after trying twice, show human the code and ask for help.\n",
    "Improve the code by asking human for feed back until human is satisfied.\n",
    "If you encounter some error, identify which line of codes cause the error, and analyze the reason by printing out information that can be \n",
    "relevant to the error message. For example, you can print out the columns of data if you encounter \n",
    "a key error.\n",
    "You can search for suggestions and tips, but you should always use a key word as specific as possible.\n",
    "For example, if you want to produce a bar chart with python, and needs to make it looks better,\n",
    "search for \"python beautiful bar chart tips\".\n",
    "As another example, you can use the entire error message as key word to search for solution.\n",
    "\n",
    "You have access to the following tools:\n",
    "{tools}\n",
    "\n",
    "Use the following format:\n",
    "Question: the input question you must answer\n",
    "Thought: you should always think about what to do, and if human said they are satisfied.\n",
    "Action: the action to take, should be one of [{tool_names}].\n",
    "Action Input: the input to the action. \n",
    "Observation: the result of the action\n",
    "... (this Thought/Action/Action Input/Observation can repeat N times)\n",
    "Thought: Since human is satisfied, I now know the final answer\n",
    "Final Answer: the final answer to the original input question. Must provide a python code template, as well as the result of executing the code.\n",
    "\n",
    "Begin! Remember to give detailed, informative answers.\n",
    "\n",
    "Previous conversation history:\n",
    "{history}\n",
    "\n",
    "New question: {input}\n",
    "{agent_scratchpad}\"\"\"\n",
    "\n",
    "\n",
    "# Set up a prompt template\n",
    "class CustomPromptTemplate(BaseChatPromptTemplate):\n",
    "    # The template to use\n",
    "    template: str\n",
    "    # The list of tools available\n",
    "    tools: List[Tool]\n",
    "    def format_messages(self, **kwargs) -> str:\n",
    "        # Get the intermediate steps (AgentAction, Observation tuples)\n",
    "        \n",
    "        # Format them in a particular way\n",
    "        intermediate_steps = kwargs.pop(\"intermediate_steps\")\n",
    "        thoughts = \"\"\n",
    "        for action, observation in intermediate_steps:\n",
    "            thoughts += action.log\n",
    "            thoughts += f\"\\nObservation: {observation}\\nThought: \"\n",
    "        # Set the agent_scratchpad variable to that value\n",
    "        kwargs[\"agent_scratchpad\"] = thoughts\n",
    "        \n",
    "        # Create a tools variable from the list of tools provided\n",
    "        kwargs[\"tools\"] = \"\\n\".join([f\"{tool.name}: {tool.description}\" for tool in self.tools])\n",
    "        \n",
    "        # Create a list of tool names for the tools provided\n",
    "        kwargs[\"tool_names\"] = \", \".join([tool.name for tool in self.tools])\n",
    "        formatted = self.template.format(**kwargs)\n",
    "        return [HumanMessage(content=formatted)]\n",
    "\n",
    "\n",
    "    \n",
    "prompt = CustomPromptTemplate(\n",
    "    template=template,\n",
    "    tools=tools,\n",
    "    # This omits the `agent_scratchpad`, `tools`, and `tool_names` variables because those are generated dynamically\n",
    "    # This includes the `intermediate_steps` variable because that is needed\n",
    "    input_variables=[\"input\", \"intermediate_steps\", \"history\"]\n",
    ")\n"
   ]
  },
  {
   "cell_type": "code",
   "execution_count": 14,
   "id": "86315a5a",
   "metadata": {},
   "outputs": [],
   "source": [
    "class CustomOutputParser(AgentOutputParser):\n",
    "    \n",
    "    def parse(self, llm_output: str) -> Union[AgentAction, AgentFinish]:\n",
    "        \n",
    "        # Check if agent should finish\n",
    "        if \"Final Answer:\" in llm_output:\n",
    "            return AgentFinish(\n",
    "                # Return values is generally always a dictionary with a single `output` key\n",
    "                # It is not recommended to try anything else at the moment :)\n",
    "                return_values={\"output\": llm_output.split(\"Final Answer:\")[-1].strip()},\n",
    "                log=llm_output,\n",
    "            )\n",
    "        \n",
    "        # Parse out the action and action input\n",
    "        regex = r\"Action: (.*?)[\\n]*Action Input:[\\s]*(.*)\"\n",
    "        match = re.search(regex, llm_output, re.DOTALL)\n",
    "        \n",
    "        # If it can't parse the output it raises an error\n",
    "        # You can add your own logic here to handle errors in a different way i.e. pass to a human, give a canned response\n",
    "        if not match:\n",
    "            raise ValueError(f\"Could not parse LLM output: `{llm_output}`\")\n",
    "        action = match.group(1).strip()\n",
    "        action_input = match.group(2)\n",
    "        \n",
    "        # Return the action and action input\n",
    "        return AgentAction(tool=action, tool_input=action_input.strip(\" \").strip('\"'), log=llm_output)\n",
    "    \n",
    "output_parser = CustomOutputParser()"
   ]
  },
  {
   "cell_type": "code",
   "execution_count": 15,
   "id": "23f58c8c",
   "metadata": {},
   "outputs": [],
   "source": [
    "llm_chain = LLMChain(llm=OpenAI(temperature=0), prompt=prompt)\n",
    "tool_names = [tool.name for tool in tools]\n",
    "agent = LLMSingleActionAgent(\n",
    "    llm_chain=llm_chain, \n",
    "    output_parser=output_parser,\n",
    "    stop=[\"\\nObservation:\"], \n",
    "    allowed_tools=tool_names\n",
    ")\n",
    "memory = ConversationBufferMemory(memory_key=\"history\")\n",
    "#memory = ConversationBufferWindowMemory(k=2)\n",
    "#memory = ConversationSummaryMemory(llm=OpenAI(temperature=0))\n",
    "agent_executor = AgentExecutor.from_agent_and_tools(agent=agent, tools=tools, verbose=True, memory=memory,  max_iterations=100,)\n"
   ]
  },
  {
   "cell_type": "code",
   "execution_count": 16,
   "id": "f7cd0b2b",
   "metadata": {},
   "outputs": [
    {
     "name": "stdout",
     "output_type": "stream",
     "text": [
      "\n",
      "\n",
      "\u001b[1m> Entering new  chain...\u001b[0m\n",
      "\u001b[32;1m\u001b[1;3m\n",
      "Thought: I need to ask human for the data and the type of chart they want.\n",
      "Action: human\n",
      "Action Input: What data do you have for population distribution in America?\u001b[0m\n",
      "\n",
      "What data do you have for population distribution in America?\n",
      "Please use ./population.csv\n",
      "\n",
      "\n",
      "Observation:\u001b[36;1m\u001b[1;3mPlease use ./population.csv\u001b[0m\n",
      "\u001b[32;1m\u001b[1;3m I need to ask human what type of chart they want.\n",
      "Action: human\n",
      "Action Input: What type of chart do you want for population distribution in America?\u001b[0m\n",
      "\n",
      "What type of chart do you want for population distribution in America?\n",
      "Do you have any recommendation?\n",
      "\n",
      "\n",
      "Observation:\u001b[36;1m\u001b[1;3mDo you have any recommendation?\u001b[0m\n",
      "\u001b[32;1m\u001b[1;3m I should recommend a bar chart.\n",
      "Action: human\n",
      "Action Input: Can I suggest a bar chart for population distribution in America?\u001b[0m\n",
      "\n",
      "Can I suggest a bar chart for population distribution in America?\n",
      "Sure, provide me a bar chart then\n",
      "\n",
      "\n",
      "Observation:\u001b[36;1m\u001b[1;3mSure, provide me a bar chart then\u001b[0m\n",
      "\u001b[32;1m\u001b[1;3m I should provide a python code that produces a bar chart.\n",
      "Action: python_repl\n",
      "Action Input: \n",
      "import pandas as pd\n",
      "import matplotlib.pyplot as plt\n",
      "\n",
      "data = pd.read_csv('./population.csv')\n",
      "\n",
      "plt.bar(data['State'], data['Population'])\n",
      "plt.title('Population Distribution in America')\n",
      "plt.xlabel('State')\n",
      "plt.ylabel('Population')\n",
      "plt.show()\u001b[0m\n",
      "\n",
      "Observation:\u001b[33;1m\u001b[1;3mKeyError('State')\u001b[0m\n",
      "\u001b[32;1m\u001b[1;3m I should check the data to see if the column 'State' exists.\n",
      "Action: python_repl\n",
      "Action Input: \n",
      "print(data.columns)\u001b[0m\n",
      "\n",
      "Observation:\u001b[33;1m\u001b[1;3mIndex(['STATE', 'POPESTIMATE2019', 'lat', 'long'], dtype='object')\n",
      "\u001b[0m\n",
      "\u001b[32;1m\u001b[1;3m I should use the column 'STATE' instead of 'State'.\n",
      "Action: python_repl\n",
      "Action Input: \n",
      "import pandas as pd\n",
      "import matplotlib.pyplot as plt\n",
      "\n",
      "data = pd.read_csv('./population.csv')\n",
      "\n",
      "plt.bar(data['STATE'], data['POPESTIMATE2019'])\n",
      "plt.title('Population Distribution in America')\n",
      "plt.xlabel('State')\n",
      "plt.ylabel('Population')\n",
      "plt.show()\u001b[0m"
     ]
    },
    {
     "data": {
      "image/png": "[encoded data removed]",
      "text/plain": [
       "<Figure size 640x480 with 1 Axes>"
      ]
     },
     "metadata": {},
     "output_type": "display_data"
    },
    {
     "name": "stdout",
     "output_type": "stream",
     "text": [
      "\n",
      "\n",
      "Observation:\u001b[33;1m\u001b[1;3m\u001b[0m\n",
      "\u001b[32;1m\u001b[1;3m I should ask human for feedback.\n",
      "Action: human\n",
      "Action Input: How does this bar chart look?\u001b[0m\n",
      "\n",
      "How does this bar chart look?\n",
      "The x label looks crowded. Can you group the data with the capital letter of States instead?\n",
      "\n",
      "\n",
      "Observation:\u001b[36;1m\u001b[1;3mThe x label looks crowded. Can you group the data with the capital letter of States instead?\u001b[0m\n",
      "\u001b[32;1m\u001b[1;3m I should group the data with the capital letter of States.\n",
      "Action: python_repl\n",
      "Action Input: \n",
      "import pandas as pd\n",
      "import matplotlib.pyplot as plt\n",
      "\n",
      "data = pd.read_csv('./population.csv')\n",
      "data['State_Group'] = data['STATE'].str[0]\n",
      "\n",
      "plt.bar(data['State_Group'], data['POPESTIMATE2019'])\n",
      "plt.title('Population Distribution in America')\n",
      "plt.xlabel('State Group')\n",
      "plt.ylabel('Population')\n",
      "plt.show()\u001b[0m"
     ]
    },
    {
     "data": {
      "image/png": "[encoded data removed]",
      "text/plain": [
       "<Figure size 640x480 with 1 Axes>"
      ]
     },
     "metadata": {},
     "output_type": "display_data"
    },
    {
     "name": "stdout",
     "output_type": "stream",
     "text": [
      "\n",
      "\n",
      "Observation:\u001b[33;1m\u001b[1;3m\u001b[0m\n",
      "\u001b[32;1m\u001b[1;3m I should ask human for feedback.\n",
      "Action: human\n",
      "Action Input: How does this bar chart look?\u001b[0m\n",
      "\n",
      "How does this bar chart look?\n",
      "The x axis should be called 'State Capital Letter'\n",
      "\n",
      "\n",
      "Observation:\u001b[36;1m\u001b[1;3mThe x axis should be called 'State Capital Letter'\u001b[0m\n",
      "\u001b[32;1m\u001b[1;3m I should change the x axis label to 'State Capital Letter'.\n",
      "Action: python_repl\n",
      "Action Input: \n",
      "import pandas as pd\n",
      "import matplotlib.pyplot as plt\n",
      "\n",
      "data = pd.read_csv('./population.csv')\n",
      "data['State_Group'] = data['STATE'].str[0]\n",
      "\n",
      "plt.bar(data['State_Group'], data['POPESTIMATE2019'])\n",
      "plt.title('Population Distribution in America')\n",
      "plt.xlabel('State Capital Letter')\n",
      "plt.ylabel('Population')\n",
      "plt.show()\u001b[0m"
     ]
    },
    {
     "data": {
      "image/png": "[encoded data removed]",
      "text/plain": [
       "<Figure size 640x480 with 1 Axes>"
      ]
     },
     "metadata": {},
     "output_type": "display_data"
    },
    {
     "name": "stdout",
     "output_type": "stream",
     "text": [
      "\n",
      "\n",
      "Observation:\u001b[33;1m\u001b[1;3m\u001b[0m\n",
      "\u001b[32;1m\u001b[1;3m I should ask human for feedback.\n",
      "Action: human\n",
      "Action Input: How does this bar chart look?\u001b[0m\n",
      "\n",
      "How does this bar chart look?\n",
      "Looks perfect! Thanks\n",
      "\n",
      "\n",
      "Observation:\u001b[36;1m\u001b[1;3mLooks perfect! Thanks\u001b[0m\n",
      "\u001b[32;1m\u001b[1;3m Since human is satisfied, I now know the final answer.\n",
      "Final Answer: The following python code produces a bar chart for population distribution in America, grouped by the capital letter of the state.\n",
      "\n",
      "import pandas as pd\n",
      "import matplotlib.pyplot as plt\n",
      "\n",
      "data = pd.read_csv('./population.csv')\n",
      "data['State_Group'] = data['STATE'].str[0]\n",
      "\n",
      "plt.bar(data['State_Group'], data['POPESTIMATE2019'])\n",
      "plt.title('Population Distribution in America')\n",
      "plt.xlabel('State Capital Letter')\n",
      "plt.ylabel('Population')\n",
      "plt.show()\u001b[0m\n",
      "\n",
      "\u001b[1m> Finished chain.\u001b[0m\n"
     ]
    },
    {
     "data": {
      "text/markdown": [
       "The following python code produces a bar chart for population distribution in America, grouped by the capital letter of the state.\n",
       "\n",
       "import pandas as pd\n",
       "import matplotlib.pyplot as plt\n",
       "\n",
       "data = pd.read_csv('./population.csv')\n",
       "data['State_Group'] = data['STATE'].str[0]\n",
       "\n",
       "plt.bar(data['State_Group'], data['POPESTIMATE2019'])\n",
       "plt.title('Population Distribution in America')\n",
       "plt.xlabel('State Capital Letter')\n",
       "plt.ylabel('Population')\n",
       "plt.show()"
      ],
      "text/plain": [
       "<IPython.core.display.Markdown object>"
      ]
     },
     "metadata": {},
     "output_type": "display_data"
    }
   ],
   "source": [
    "display(Markdown(agent_executor.run(\n",
    "       # \"Can you help me name a cat?\"\n",
    "       \"Can you help me create a chart for population distribution in America?\"\n",
    "    )))\n",
    "\n",
    "#Use the following code to debug with visualize. \n",
    "\n",
    "#async def search_agent_demo():\n",
    "#    return agent_chain.run(\n",
    "#       \"Can you help me visualize the population in America?\"\n",
    "#    )\n",
    "\n",
    "#visualize(search_agent_demo)"
   ]
  },
  {
   "cell_type": "code",
   "execution_count": 12,
   "id": "3d650730",
   "metadata": {},
   "outputs": [
    {
     "name": "stdout",
     "output_type": "stream",
     "text": [
      "\n",
      "\n",
      "\u001b[1m> Entering new  chain...\u001b[0m\n",
      "\u001b[32;1m\u001b[1;3mThought: I need to ask human for clarification.\n",
      "Action: human\n",
      "Action Input: Can you please clarify what you mean by \"mother's mother\"?\u001b[0m\n",
      "\n",
      "Can you please clarify what you mean by \"mother's mother\"?\n",
      "I mean how should one call mother's mother\n",
      "\n",
      "\n",
      "Observation:\u001b[36;1m\u001b[1;3mI mean how should one call mother's mother\u001b[0m\n",
      "\u001b[32;1m\u001b[1;3m I need to provide an answer.\n",
      "Action: Language Model\n",
      "Action Input: What is the term for mother's mother\u001b[0m\n",
      "\n",
      "Observation:\u001b[38;5;200m\u001b[1;3m\n",
      "\n",
      "Grandmother\u001b[0m\n",
      "\u001b[32;1m\u001b[1;3m I have the answer.\n",
      "Final Answer: Grandmother\u001b[0m\n",
      "\n",
      "\u001b[1m> Finished chain.\u001b[0m\n"
     ]
    },
    {
     "data": {
      "text/markdown": [
       "Grandmother"
      ],
      "text/plain": [
       "<IPython.core.display.Markdown object>"
      ]
     },
     "metadata": {},
     "output_type": "display_data"
    }
   ],
   "source": [
    "display(Markdown(agent_executor.run(\n",
    "       # \"Can you help me name a cat?\"\n",
    "       \"what is mother's mother?\"\n",
    "    )))"
   ]
  },
  {
   "cell_type": "code",
   "execution_count": null,
   "id": "43b08238",
   "metadata": {},
   "outputs": [],
   "source": []
  }
 ],
 "metadata": {
  "kernelspec": {
   "display_name": "Python 3 (ipykernel)",
   "language": "python",
   "name": "python3"
  },
  "language_info": {
   "codemirror_mode": {
    "name": "ipython",
    "version": 3
   },
   "file_extension": ".py",
   "mimetype": "text/x-python",
   "name": "python",
   "nbconvert_exporter": "python",
   "pygments_lexer": "ipython3",
   "version": "3.9.12"
  }
 },
 "nbformat": 4,
 "nbformat_minor": 5
}
