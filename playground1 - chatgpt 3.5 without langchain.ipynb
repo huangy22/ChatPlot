{
 "cells": [
  {
   "cell_type": "code",
   "execution_count": 1,
   "id": "08a023bf",
   "metadata": {},
   "outputs": [],
   "source": [
    "import openai\n",
    "import os"
   ]
  },
  {
   "cell_type": "code",
   "execution_count": 2,
   "id": "9f4ef5b5",
   "metadata": {},
   "outputs": [],
   "source": [
    "from dotenv import load_dotenv, find_dotenv\n",
    "_ = load_dotenv(find_dotenv()) # read local .env file\n",
    "\n",
    "openai.api_key  = os.getenv('OPENAI_API_KEY')"
   ]
  },
  {
   "cell_type": "code",
   "execution_count": 3,
   "id": "2f06101c",
   "metadata": {},
   "outputs": [],
   "source": [
    "def get_completion(prompt, model=\"gpt-3.5-turbo\"): # Andrew mentioned that the prompt/ completion paradigm is preferable for this class\n",
    "    messages = [{\"role\": \"user\", \"content\": prompt}]\n",
    "    response = openai.ChatCompletion.create(\n",
    "        model=model,\n",
    "        messages=messages,\n",
    "        temperature=0, # this is the degree of randomness of the model's output\n",
    "    )\n",
    "    return response.choices[0].message[\"content\"]"
   ]
  },
  {
   "cell_type": "code",
   "execution_count": 4,
   "id": "9b80db27",
   "metadata": {},
   "outputs": [],
   "source": [
    "def get_completion_from_messages(messages, \n",
    "                                 model=\"gpt-3.5-turbo\", \n",
    "                                 temperature=0, max_tokens=500):\n",
    "    response = openai.ChatCompletion.create(\n",
    "        model=model,\n",
    "        messages=messages,\n",
    "        temperature=temperature, \n",
    "        max_tokens=max_tokens, \n",
    "    )\n",
    "    return response.choices[0].message[\"content\"]"
   ]
  },
  {
   "cell_type": "code",
   "execution_count": 5,
   "id": "908a0a65",
   "metadata": {},
   "outputs": [],
   "source": [
    "delimiter = \"####\"\n",
    "system_message = f\"\"\"\n",
    "You are a Chinese teacher with 10-year expertise to teach English speaking students.\n",
    "Help user to find the best way to learn how to say things in chinese for each of user's English queries.\n",
    "\n",
    "User queries will be delimited with four hashtags, i.e. {delimiter}. \n",
    "\"\"\""
   ]
  },
  {
   "cell_type": "code",
   "execution_count": 10,
   "id": "d74aad48",
   "metadata": {},
   "outputs": [],
   "source": [
    "user_message = f\"\"\"\n",
    "no more monkeys jumping on the bed\n",
    "\"\"\""
   ]
  },
  {
   "cell_type": "code",
   "execution_count": 11,
   "id": "f49735ed",
   "metadata": {},
   "outputs": [
    {
     "name": "stdout",
     "output_type": "stream",
     "text": [
      "To say \"no more monkeys jumping on the bed\" in Chinese, you can say \"床上不再有猴子跳跃\" (chuáng shàng bù zài yǒu hóu zǐ tiào yuè).\n"
     ]
    }
   ],
   "source": [
    "messages =  [  \n",
    "{'role':'system', 'content': system_message},    \n",
    "{'role':'user', 'content': f\"{delimiter}{user_message}{delimiter}\"},  \n",
    "] \n",
    "\n",
    "response = get_completion_from_messages(messages)\n",
    "print(response)"
   ]
  },
  {
   "cell_type": "code",
   "execution_count": 19,
   "id": "0e9a0139",
   "metadata": {},
   "outputs": [],
   "source": [
    "delimiter = \"####\"\n",
    "system_message = \"\"\"\n",
    "Create a comma separated tabular dataset using the column names provided by the user.\n",
    "Randomly generate fake values for each column.\n",
    "\n",
    "Return in the following JSON format:\n",
    "{\n",
    "    'column_name_1': [value_1, value_2, ...],\n",
    "    'column_name_2': [value_1, value_2, ...],\n",
    "    ...\n",
    "}\n",
    "Only output the JSON with no more info. Do not return python code.\n",
    "\"\"\""
   ]
  },
  {
   "cell_type": "code",
   "execution_count": 20,
   "id": "00626dd6",
   "metadata": {},
   "outputs": [
    {
     "name": "stdout",
     "output_type": "stream",
     "text": [
      "Here's an example of a comma separated tabular dataset with randomly generated fake values for each column:\n",
      "\n",
      "omega, k, x, y, z\n",
      "\n",
      "0.123, 4.567, 8.901, 2.345, 6.789\n",
      "\n",
      "1.234, 5.678, 9.012, 3.456, 7.890\n",
      "\n",
      "2.345, 6.789, 0.123, 4.567, 8.901\n",
      "\n",
      "3.456, 7.890, 1.234, 5.678, 9.012\n",
      "\n",
      "4.567, 8.901, 2.345, 6.789, 0.123\n",
      "\n",
      "And here's the JSON format of the same data:\n",
      "\n",
      "{\n",
      "    \"omega\": [0.123, 1.234, 2.345, 3.456, 4.567],\n",
      "    \"k\": [4.567, 5.678, 6.789, 7.89, 8.901],\n",
      "    \"x\": [8.901, 9.012, 0.123, 1.234, 2.345],\n",
      "    \"y\": [2.345, 3.456, 4.567, 5.678, 6.789],\n",
      "    \"z\": [6.789, 7.89, 8.901, 9.012, 0.123]\n",
      "}\n"
     ]
    }
   ],
   "source": [
    "user_message = \"data column names are: omega, k, x, y, z\"\n",
    "messages =  [  \n",
    "{'role':'system', 'content': system_message},    \n",
    "{'role':'user', 'content': f\"{user_message}\"},  \n",
    "] \n",
    "\n",
    "response = get_completion_from_messages(messages)\n",
    "print(response)"
   ]
  },
  {
   "cell_type": "code",
   "execution_count": 24,
   "id": "31b1aa1a",
   "metadata": {},
   "outputs": [],
   "source": [
    "import pandas as pd\n",
    "df = pd.DataFrame.from_dict({\n",
    "    \"omega\": [0.123, 1.234, 2.345, 3.456, 4.567],\n",
    "    \"k\": [4.567, 5.678, 6.789, 7.89, 8.901],\n",
    "    \"x\": [8.901, 9.012, 0.123, 1.234, 2.345],\n",
    "    \"y\": [2.345, 3.456, 4.567, 5.678, 6.789],\n",
    "    \"z\": [6.789, 7.89, 8.901, 9.012, 0.123]\n",
    "})"
   ]
  },
  {
   "cell_type": "code",
   "execution_count": 25,
   "id": "32c9b947",
   "metadata": {},
   "outputs": [],
   "source": [
    "system_message = \"\"\"\n",
    "Write a python code using matplotlib pkg to plot a linechart for user specified column x and column y.\n",
    "\"\"\""
   ]
  },
  {
   "cell_type": "code",
   "execution_count": 27,
   "id": "02d357b1",
   "metadata": {},
   "outputs": [
    {
     "name": "stdout",
     "output_type": "stream",
     "text": [
      "Here's a sample code to plot a line chart using matplotlib for user specified columns 'k' and 'omega':\n",
      "\n",
      "```python\n",
      "import pandas as pd\n",
      "import matplotlib.pyplot as plt\n",
      "\n",
      "# Load data from CSV file\n",
      "data = pd.read_csv('data.csv')\n",
      "\n",
      "# Get user input for column names\n",
      "x_col = input(\"Enter the name of the x column: \")\n",
      "y_col = input(\"Enter the name of the y column: \")\n",
      "\n",
      "# Extract x and y data from the dataframe\n",
      "x_data = data[x_col]\n",
      "y_data = data[y_col]\n",
      "\n",
      "# Create a line chart\n",
      "plt.plot(x_data, y_data)\n",
      "\n",
      "# Add labels and title\n",
      "plt.xlabel(x_col)\n",
      "plt.ylabel(y_col)\n",
      "plt.title(\"Line Chart of {} vs {}\".format(y_col, x_col))\n",
      "\n",
      "# Show the plot\n",
      "plt.show()\n",
      "```\n",
      "\n",
      "Note: Replace 'data.csv' with the name of your CSV file containing the data.\n"
     ]
    }
   ],
   "source": [
    "user_message = \"\"\"\n",
    "The x column name is {column_x} and y column name is {column_y}\n",
    "\"\"\"\n",
    "messages =  [  \n",
    "{'role':'system', 'content': system_message},    \n",
    "{'role':'user', 'content': user_message.format(column_x='k', column_y='omega')},  \n",
    "] \n",
    "\n",
    "response = get_completion_from_messages(messages)\n",
    "print(response)"
   ]
  },
  {
   "cell_type": "code",
   "execution_count": 31,
   "id": "c06aba52",
   "metadata": {},
   "outputs": [
    {
     "name": "stdout",
     "output_type": "stream",
     "text": [
      "Enter the name of the x column: k\n",
      "Enter the name of the y column: omega\n"
     ]
    },
    {
     "data": {
      "image/png": "[encoded data removed]",
      "text/plain": [
       "<Figure size 640x480 with 1 Axes>"
      ]
     },
     "metadata": {},
     "output_type": "display_data"
    }
   ],
   "source": [
    "import pandas as pd\n",
    "import matplotlib.pyplot as plt\n",
    "\n",
    "data = df\n",
    "# Get user input for column names\n",
    "x_col = input(\"Enter the name of the x column: \")\n",
    "y_col = input(\"Enter the name of the y column: \")\n",
    "\n",
    "# Extract x and y data from the dataframe\n",
    "x_data = data[x_col]\n",
    "y_data = data[y_col]\n",
    "\n",
    "# Create a line chart\n",
    "plt.plot(x_data, y_data)\n",
    "\n",
    "# Add labels and title\n",
    "plt.xlabel(x_col)\n",
    "plt.ylabel(y_col)\n",
    "plt.title(\"Line Chart of {} vs {}\".format(y_col, x_col))\n",
    "\n",
    "# Show the plot\n",
    "plt.show()"
   ]
  },
  {
   "cell_type": "code",
   "execution_count": null,
   "id": "6447ea10",
   "metadata": {},
   "outputs": [],
   "source": []
  }
 ],
 "metadata": {
  "kernelspec": {
   "display_name": "Python 3 (ipykernel)",
   "language": "python",
   "name": "python3"
  },
  "language_info": {
   "codemirror_mode": {
    "name": "ipython",
    "version": 3
   },
   "file_extension": ".py",
   "mimetype": "text/x-python",
   "name": "python",
   "nbconvert_exporter": "python",
   "pygments_lexer": "ipython3",
   "version": "3.9.16"
  }
 },
 "nbformat": 4,
 "nbformat_minor": 5
}
